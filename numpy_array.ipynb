{
  "nbformat": 4,
  "nbformat_minor": 0,
  "metadata": {
    "colab": {
      "name": "numpy_array.ipynb",
      "provenance": [],
      "authorship_tag": "ABX9TyOe1knx47y5xjI9GwYhWlO5",
      "include_colab_link": true
    },
    "kernelspec": {
      "name": "python3",
      "display_name": "Python 3"
    },
    "language_info": {
      "name": "python"
    }
  },
  "cells": [
    {
      "cell_type": "markdown",
      "metadata": {
        "id": "view-in-github",
        "colab_type": "text"
      },
      "source": [
        "<a href=\"https://colab.research.google.com/github/sadicsha/Numpy-in-python/blob/main/numpy_array.ipynb\" target=\"_parent\"><img src=\"https://colab.research.google.com/assets/colab-badge.svg\" alt=\"Open In Colab\"/></a>"
      ]
    },
    {
      "cell_type": "code",
      "metadata": {
        "colab": {
          "base_uri": "https://localhost:8080/"
        },
        "id": "wTk7oKWwb7gs",
        "outputId": "f1863c9c-590d-4038-f8f8-2c042aa6f668"
      },
      "source": [
        "# importing package\n",
        "import numpy\n",
        "  \n",
        "# create numpy array\n",
        "arr = numpy.array([[1, 2, 3, 4, 5],\n",
        "                   [6, 7, 8, 9, 10],\n",
        "                   [11, 12, 13, 14, 15],\n",
        "                   [16, 17, 18, 19, 20]\n",
        "                   ])\n",
        "  \n",
        "# view array\n",
        "print(arr)\n",
        "  \n",
        "# check for some lists\n",
        "print([1, 2, 3, 4, 5] in arr.tolist())\n",
        "print([16, 17, 20, 19, 18] in arr.tolist())\n",
        "print([3, 2, 5, -4, 5] in arr.tolist())\n",
        "print([11, 12, 13, 14, 15] in arr.tolist())"
      ],
      "execution_count": 1,
      "outputs": [
        {
          "output_type": "stream",
          "text": [
            "[[ 1  2  3  4  5]\n",
            " [ 6  7  8  9 10]\n",
            " [11 12 13 14 15]\n",
            " [16 17 18 19 20]]\n",
            "True\n",
            "False\n",
            "False\n",
            "True\n"
          ],
          "name": "stdout"
        }
      ]
    },
    {
      "cell_type": "code",
      "metadata": {
        "colab": {
          "base_uri": "https://localhost:8080/"
        },
        "id": "d_wn7Mtdcdm8",
        "outputId": "d50e8f76-6a3e-4739-fae0-aa6693b41258"
      },
      "source": [
        "# Importing Numpy module\n",
        "import numpy as np\n",
        "  \n",
        "# Creating 5X4 2-D Numpy array\n",
        "n_arr = np.array([[10.5, 22.5, 3.8, 5],\n",
        "                  [23.45, 50, 78.7, 3.5],\n",
        "                  [41, np.nan, np.nan, 0],\n",
        "                  [20, 50.20, np.nan, 2.5],\n",
        "                  [18.8, 50.60, 8.8, 58.6]])\n",
        "  \n",
        "print(\"Given array:\")\n",
        "print(n_arr)\n",
        "  \n",
        "print(\"\\nRemove all rows containing non-numeric elements\")\n",
        "print(n_arr[~np.isnan(n_arr).any(axis=1)])"
      ],
      "execution_count": 2,
      "outputs": [
        {
          "output_type": "stream",
          "text": [
            "Given array:\n",
            "[[10.5  22.5   3.8   5.  ]\n",
            " [23.45 50.   78.7   3.5 ]\n",
            " [41.     nan   nan  0.  ]\n",
            " [20.   50.2    nan  2.5 ]\n",
            " [18.8  50.6   8.8  58.6 ]]\n",
            "\n",
            "Remove all rows containing non-numeric elements\n",
            "[[10.5  22.5   3.8   5.  ]\n",
            " [23.45 50.   78.7   3.5 ]\n",
            " [18.8  50.6   8.8  58.6 ]]\n"
          ],
          "name": "stdout"
        }
      ]
    },
    {
      "cell_type": "code",
      "metadata": {
        "colab": {
          "base_uri": "https://localhost:8080/"
        },
        "id": "KlWbsbogcmmH",
        "outputId": "5524754f-4993-46f5-e430-57468e213d5d"
      },
      "source": [
        "# Python Program to create array with all ones\n",
        "import numpy as geek\n",
        "\n",
        "a = geek.ones(3, dtype = int)\n",
        "print(\"Matrix a : \\n\", a)\n",
        "\n",
        "b = geek.ones([3, 3], dtype = int)\n",
        "print(\"\\nMatrix b : \\n\", b)\n"
      ],
      "execution_count": 3,
      "outputs": [
        {
          "output_type": "stream",
          "text": [
            "Matrix a : \n",
            " [1 1 1]\n",
            "\n",
            "Matrix b : \n",
            " [[1 1 1]\n",
            " [1 1 1]\n",
            " [1 1 1]]\n"
          ],
          "name": "stdout"
        }
      ]
    },
    {
      "cell_type": "code",
      "metadata": {
        "colab": {
          "base_uri": "https://localhost:8080/"
        },
        "id": "xZnrLqqycxpv",
        "outputId": "7ac97b8c-b5d8-4b34-8b2d-c0df80323c9f"
      },
      "source": [
        "# Python program explaining\n",
        "# numpy.squeeze function\n",
        "import numpy as geek\n",
        "in_arr = geek.arange(9).reshape(1, 3, 3)\n",
        "\n",
        "print (\"Input array : \", in_arr)\n",
        "out_arr = geek.squeeze(in_arr, axis = 0)\n",
        "\n",
        "print (\"output array : \", out_arr)\n",
        "print(\"The shapes of Input and Output array : \")\n",
        "\n",
        "print(in_arr.shape, out_arr.shape)\n"
      ],
      "execution_count": 5,
      "outputs": [
        {
          "output_type": "stream",
          "text": [
            "Input array :  [[[0 1 2]\n",
            "  [3 4 5]\n",
            "  [6 7 8]]]\n",
            "output array :  [[0 1 2]\n",
            " [3 4 5]\n",
            " [6 7 8]]\n",
            "The shapes of Input and Output array : \n",
            "(1, 3, 3) (3, 3)\n"
          ],
          "name": "stdout"
        }
      ]
    }
  ]
}