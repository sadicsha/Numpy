{
  "nbformat": 4,
  "nbformat_minor": 0,
  "metadata": {
    "colab": {
      "name": "NUMPY.ipynb",
      "provenance": [],
      "collapsed_sections": [],
      "authorship_tag": "ABX9TyOGyTaK35EmXxp7MErlhjUs",
      "include_colab_link": true
    },
    "kernelspec": {
      "name": "python3",
      "display_name": "Python 3"
    },
    "language_info": {
      "name": "python"
    }
  },
  "cells": [
    {
      "cell_type": "markdown",
      "metadata": {
        "id": "view-in-github",
        "colab_type": "text"
      },
      "source": [
        "<a href=\"https://colab.research.google.com/github/sadicsha/Numpy-in-python/blob/main/NUMPY.ipynb\" target=\"_parent\"><img src=\"https://colab.research.google.com/assets/colab-badge.svg\" alt=\"Open In Colab\"/></a>"
      ]
    },
    {
      "cell_type": "code",
      "metadata": {
        "colab": {
          "base_uri": "https://localhost:8080/"
        },
        "id": "1fnF-CsxHqx1",
        "outputId": "697d4cbc-f1fe-4e54-871f-69405ea94da6"
      },
      "source": [
        "!pip install numpy"
      ],
      "execution_count": null,
      "outputs": [
        {
          "output_type": "stream",
          "text": [
            "Requirement already satisfied: numpy in /usr/local/lib/python3.7/dist-packages (1.19.5)\n"
          ],
          "name": "stdout"
        }
      ]
    },
    {
      "cell_type": "code",
      "metadata": {
        "id": "zEhG6EfUH1fZ"
      },
      "source": [
        "import numpy as np"
      ],
      "execution_count": null,
      "outputs": []
    },
    {
      "cell_type": "markdown",
      "metadata": {
        "id": "sBEWKWvpILIv"
      },
      "source": [
        "creating a list \n",
        "creating array with help of this list "
      ]
    },
    {
      "cell_type": "code",
      "metadata": {
        "colab": {
          "base_uri": "https://localhost:8080/"
        },
        "id": "O5gfCkkUISe3",
        "outputId": "906f93fe-190e-4817-9976-c1e774a75945"
      },
      "source": [
        "lst_np=[1,2,3,4,5,6,7,8,9,10]\n",
        "print(lst_np)\n",
        "print(type(lst_np))\n",
        "arr1 = np.array(lst_np)\n",
        "print(arr1)\n",
        "print(type(arr1))\n",
        "arr1"
      ],
      "execution_count": null,
      "outputs": [
        {
          "output_type": "stream",
          "text": [
            "[1, 2, 3, 4, 5, 6, 7, 8, 9, 10]\n",
            "<class 'list'>\n",
            "[ 1  2  3  4  5  6  7  8  9 10]\n",
            "<class 'numpy.ndarray'>\n"
          ],
          "name": "stdout"
        },
        {
          "output_type": "execute_result",
          "data": {
            "text/plain": [
              "array([ 1,  2,  3,  4,  5,  6,  7,  8,  9, 10])"
            ]
          },
          "metadata": {
            "tags": []
          },
          "execution_count": 4
        }
      ]
    },
    {
      "cell_type": "code",
      "metadata": {
        "colab": {
          "base_uri": "https://localhost:8080/"
        },
        "id": "pibb9QUYIy18",
        "outputId": "1b8e2b8e-0c76-4040-faea-9b6fab6468a2"
      },
      "source": [
        "arr2=np.array([1,2,3,4,5,6,7,8,9,10])\n",
        "arr2"
      ],
      "execution_count": null,
      "outputs": [
        {
          "output_type": "execute_result",
          "data": {
            "text/plain": [
              "array([ 1,  2,  3,  4,  5,  6,  7,  8,  9, 10])"
            ]
          },
          "metadata": {
            "tags": []
          },
          "execution_count": 5
        }
      ]
    },
    {
      "cell_type": "markdown",
      "metadata": {
        "id": "pKX1mkcHI8J9"
      },
      "source": [
        "how to identify if it if 1D array or 2D array or 3D array\n",
        "\n",
        "1D=[1,2,3,4,5,6,7,8,9,]\n",
        "\n",
        "2D=[[1,2,3,4,5],[6,7,8,9,10]]\n",
        "\n",
        "3D=collection of multiple 2D array\n",
        "[[[1,2,3,4,5],[6,7,8,9,10]],\n",
        "[[1,2,3,4,5],[6,7,8,9,10]],\n",
        "[[1,2,3,4,5],[6,7,8,9,10]]]"
      ]
    },
    {
      "cell_type": "code",
      "metadata": {
        "colab": {
          "base_uri": "https://localhost:8080/"
        },
        "id": "9ZreOnTbJnvF",
        "outputId": "0ebf1621-ede9-49a8-e884-f93c32094077"
      },
      "source": [
        "array_1d=np.array([1,2,3,4,5,6,7,8,9,])\n",
        "print(array_1d)\n",
        "print(type(array_1d))\n",
        "\n",
        "array_2d=np.array([[1,2,3,4,5],[6,7,8,9,10]])\n",
        "print(array_2d)\n",
        "print(type(array_2d))\n",
        "\n",
        "array_3d=np.array([[[1,2,3,4,5],[6,7,8,9,10]],\n",
        "                    [[1,2,3,4,5],[6,7,8,9,10]],\n",
        "                    [[1,2,3,4,5],[6,7,8,9,10]]])\n",
        "print(array_3d)\n",
        "print(type(array_3d))"
      ],
      "execution_count": null,
      "outputs": [
        {
          "output_type": "stream",
          "text": [
            "[1 2 3 4 5 6 7 8 9]\n",
            "<class 'numpy.ndarray'>\n",
            "[[ 1  2  3  4  5]\n",
            " [ 6  7  8  9 10]]\n",
            "<class 'numpy.ndarray'>\n",
            "[[[ 1  2  3  4  5]\n",
            "  [ 6  7  8  9 10]]\n",
            "\n",
            " [[ 1  2  3  4  5]\n",
            "  [ 6  7  8  9 10]]\n",
            "\n",
            " [[ 1  2  3  4  5]\n",
            "  [ 6  7  8  9 10]]]\n",
            "<class 'numpy.ndarray'>\n"
          ],
          "name": "stdout"
        }
      ]
    }
  ]
}